{
 "cells": [
  {
   "cell_type": "code",
   "execution_count": 0,
   "metadata": {
    "application/vnd.databricks.v1+cell": {
     "cellMetadata": {
      "byteLimit": 2048000,
      "rowLimit": 10000
     },
     "inputWidgets": {},
     "nuid": "94f1f354-966d-4ba2-a862-8803be385ef5",
     "showTitle": false,
     "title": ""
    }
   },
   "outputs": [],
   "source": [
    "import pyspark.pandas as ps\n",
    "import plotly.express as px\n",
    "import seaborn as sns\n",
    "import matplotlib.pyplot as plt\n",
    "import numpy as np\n",
    "import plotly.graph_objs as go\n",
    "from plotly.offline import iplot\n",
    "import pandas as pd\n",
    "\n",
    "from sklearn.preprocessing import LabelEncoder\n",
    "from sklearn.discriminant_analysis import LinearDiscriminantAnalysis as LDA\n",
    "import sklearn.cluster \n",
    "from sklearn.metrics import silhouette_score\n",
    "import skfuzzy as fuzz\n",
    "import networkx as nx\n",
    "from sklearn.cluster import SpectralClustering\n",
    "from sklearn.cluster import DBSCAN\n",
    "import hdbscan\n",
    "from sklearn.mixture import GaussianMixture\n",
    "from sklearn.mixture import BayesianGaussianMixture\n",
    "from sklearn.metrics import confusion_matrix, accuracy_score, recall_score\n",
    "import numpy as np\n",
    "\n",
    "from yellowbrick.cluster import KElbowVisualizer\n",
    "\n",
    "from pyspark.ml.feature import VectorAssembler \n",
    "from pyspark.ml.clustering import KMeans \n",
    "from pyspark.ml.evaluation import ClusteringEvaluator \n",
    "from pyspark.ml.feature import StandardScaler\n",
    "from pyspark.ml.linalg import Vectors\n",
    "\n",
    "from sklearn import metrics\n",
    "\n",
    "import pandas as pd\n",
    "from sklearn.model_selection import train_test_split\n",
    "from sklearn.preprocessing import StandardScaler, LabelEncoder\n",
    "from tensorflow.keras.models import Sequential\n",
    "from tensorflow.keras.layers import Dense\n",
    "from tensorflow.keras.utils import to_categorical\n",
    "from sklearn.utils.class_weight import compute_class_weight\n",
    "from tensorflow.keras.callbacks import EarlyStopping, ModelCheckpoint\n",
    "from tensorflow.keras.layers import Dense, Dropout\n",
    "\n",
    "from sklearn.metrics import classification_report\n",
    "\n",
    "import pandas as pd\n",
    "import numpy as np\n",
    "from sklearn.preprocessing import  RobustScaler # TargetEncoder,\n",
    "import seaborn as sns\n",
    "import matplotlib.pyplot as plt\n",
    "#import category_encoders as ce\n",
    "\n",
    "from sklearn.metrics import classification_report, confusion_matrix, accuracy_score, roc_auc_score\n",
    "from tensorflow.keras.utils import to_categorical\n",
    "from tensorflow.keras.models import Sequential\n",
    "from tensorflow.keras.layers import Dense\n",
    "from sklearn.model_selection import train_test_split\n",
    "from sklearn.preprocessing import LabelEncoder\n",
    "from tensorflow.keras.utils import plot_model\n",
    "import numpy as np\n",
    "import pandas as pd\n",
    "import pyspark.pandas as ps\n",
    "from sklearn.preprocessing import label_binarize\n",
    "from skfuzzy.cluster import cmeans, cmeans_predict\n",
    "\n",
    "from sklearn.metrics import confusion_matrix, recall_score, precision_score\n",
    "\n"
   ]
  },
  {
   "cell_type": "code",
   "execution_count": 0,
   "metadata": {
    "application/vnd.databricks.v1+cell": {
     "cellMetadata": {
      "byteLimit": 2048000,
      "rowLimit": 10000
     },
     "inputWidgets": {},
     "nuid": "e0bdc75a-337c-4469-8ac7-7d7811fa2478",
     "showTitle": false,
     "title": ""
    }
   },
   "outputs": [],
   "source": [
    "train_1_csv_file_path = \"/mnt/pqsashrd/data/train_1.csv\"\n",
    "train_2_csv_file_path = \"/mnt/pqsashrd/data/train_2.csv\"\n",
    "train_3_csv_file_path = \"/mnt/pqsashrd/data/train_3.csv\"\n",
    "test_1_csv_file_path = \"/mnt/pqsashrd/data/test_1.csv\"\n",
    "test_3_csv_file_path = \"/mnt/pqsashrd/data/test_3.csv\"\n",
    "\n",
    "clust_pred_1_csv_file_path = \"/mnt/pqsashrd/data/clust_pred_1.csv\"\n",
    "clust_pred_1_test_csv_file_path = \"/mnt/pqsashrd/data/clust_pred_1_test.csv\"\n",
    "clust_pred_3_csv_file_path = \"/mnt/pqsashrd/data/clust_pred_3.csv\"\n",
    "clust_pred_3_test_csv_file_path = \"/mnt/pqsashrd/data/clust_pred_3_test.csv\"\n",
    "ann_pred_1_csv_file_path = \"/mnt/pqsashrd/data/ann_pred_1.csv\"\n",
    "ann_pred_1_test_csv_file_path = \"/mnt/pqsashrd/data/ann_pred_1_test.csv\"\n",
    "ann_pred_3_csv_file_path = \"/mnt/pqsashrd/data/ann_pred_3.csv\"\n",
    "ann_pred_3_test_csv_file_path = \"/mnt/pqsashrd/data/ann_pred_3_test.csv\"\n",
    "\n",
    "train_1_partitioned_parquet_file_path = \"/mnt/pqsashrd/data/train_1_partitioned\"\n",
    "train_3_partitioned_parquet_file_path = \"/mnt/pqsashrd/data/train_3_partitioned\""
   ]
  },
  {
   "cell_type": "code",
   "execution_count": 0,
   "metadata": {
    "application/vnd.databricks.v1+cell": {
     "cellMetadata": {
      "byteLimit": 2048000,
      "rowLimit": 10000
     },
     "inputWidgets": {},
     "nuid": "31eeadae-0512-4d1d-8a40-a7006f547490",
     "showTitle": false,
     "title": ""
    }
   },
   "outputs": [
    {
     "output_type": "display_data",
     "data": {
      "text/html": [
       "<style scoped>\n",
       "  .table-result-container {\n",
       "    max-height: 300px;\n",
       "    overflow: auto;\n",
       "  }\n",
       "  table, th, td {\n",
       "    border: 1px solid black;\n",
       "    border-collapse: collapse;\n",
       "  }\n",
       "  th, td {\n",
       "    padding: 5px;\n",
       "  }\n",
       "  th {\n",
       "    text-align: left;\n",
       "  }\n",
       "</style><div class='table-result-container'><table class='table-result'><thead style='background-color: white'><tr><th>path</th><th>name</th><th>size</th><th>modificationTime</th></tr></thead><tbody><tr><td>dbfs:/mnt/pqsashrd/data/UNSW_NB15_training-set.csv</td><td>UNSW_NB15_training-set.csv</td><td>32293018</td><td>1713891069000</td></tr><tr><td>dbfs:/mnt/pqsashrd/data/ann_pred_1.csv/</td><td>ann_pred_1.csv/</td><td>0</td><td>0</td></tr><tr><td>dbfs:/mnt/pqsashrd/data/ann_pred_3.csv/</td><td>ann_pred_3.csv/</td><td>0</td><td>0</td></tr><tr><td>dbfs:/mnt/pqsashrd/data/clust_pred_1.csv/</td><td>clust_pred_1.csv/</td><td>0</td><td>0</td></tr><tr><td>dbfs:/mnt/pqsashrd/data/clust_pred_3.csv/</td><td>clust_pred_3.csv/</td><td>0</td><td>0</td></tr><tr><td>dbfs:/mnt/pqsashrd/data/test_1.csv</td><td>test_1.csv</td><td>43180275</td><td>1714230982000</td></tr><tr><td>dbfs:/mnt/pqsashrd/data/test_3.csv</td><td>test_3.csv</td><td>29747579</td><td>1714230979000</td></tr><tr><td>dbfs:/mnt/pqsashrd/data/train_1.csv</td><td>train_1.csv</td><td>91207069</td><td>1711114511000</td></tr><tr><td>dbfs:/mnt/pqsashrd/data/train_1_partitioned/</td><td>train_1_partitioned/</td><td>0</td><td>0</td></tr><tr><td>dbfs:/mnt/pqsashrd/data/train_2.csv</td><td>train_2.csv</td><td>76129537</td><td>1711195144000</td></tr><tr><td>dbfs:/mnt/pqsashrd/data/train_3.csv</td><td>train_3.csv</td><td>62836518</td><td>1711195277000</td></tr><tr><td>dbfs:/mnt/pqsashrd/data/train_3_partitioned/</td><td>train_3_partitioned/</td><td>0</td><td>0</td></tr></tbody></table></div>"
      ]
     },
     "metadata": {
      "application/vnd.databricks.v1+output": {
       "addedWidgets": {},
       "aggData": [],
       "aggError": "",
       "aggOverflow": false,
       "aggSchema": [],
       "aggSeriesLimitReached": false,
       "aggType": "",
       "arguments": {},
       "columnCustomDisplayInfos": {},
       "data": [
        [
         "dbfs:/mnt/pqsashrd/data/UNSW_NB15_training-set.csv",
         "UNSW_NB15_training-set.csv",
         32293018,
         1713891069000
        ],
        [
         "dbfs:/mnt/pqsashrd/data/ann_pred_1.csv/",
         "ann_pred_1.csv/",
         0,
         0
        ],
        [
         "dbfs:/mnt/pqsashrd/data/ann_pred_3.csv/",
         "ann_pred_3.csv/",
         0,
         0
        ],
        [
         "dbfs:/mnt/pqsashrd/data/clust_pred_1.csv/",
         "clust_pred_1.csv/",
         0,
         0
        ],
        [
         "dbfs:/mnt/pqsashrd/data/clust_pred_3.csv/",
         "clust_pred_3.csv/",
         0,
         0
        ],
        [
         "dbfs:/mnt/pqsashrd/data/test_1.csv",
         "test_1.csv",
         43180275,
         1714230982000
        ],
        [
         "dbfs:/mnt/pqsashrd/data/test_3.csv",
         "test_3.csv",
         29747579,
         1714230979000
        ],
        [
         "dbfs:/mnt/pqsashrd/data/train_1.csv",
         "train_1.csv",
         91207069,
         1711114511000
        ],
        [
         "dbfs:/mnt/pqsashrd/data/train_1_partitioned/",
         "train_1_partitioned/",
         0,
         0
        ],
        [
         "dbfs:/mnt/pqsashrd/data/train_2.csv",
         "train_2.csv",
         76129537,
         1711195144000
        ],
        [
         "dbfs:/mnt/pqsashrd/data/train_3.csv",
         "train_3.csv",
         62836518,
         1711195277000
        ],
        [
         "dbfs:/mnt/pqsashrd/data/train_3_partitioned/",
         "train_3_partitioned/",
         0,
         0
        ]
       ],
       "datasetInfos": [],
       "dbfsResultPath": null,
       "isJsonSchema": true,
       "metadata": {
        "isDbfsCommandResult": false
       },
       "overflow": false,
       "plotOptions": {
        "customPlotOptions": {},
        "displayType": "table",
        "pivotAggregation": null,
        "pivotColumns": null,
        "xColumns": null,
        "yColumns": null
       },
       "removedWidgets": [],
       "schema": [
        {
         "metadata": "{}",
         "name": "path",
         "type": "\"string\""
        },
        {
         "metadata": "{}",
         "name": "name",
         "type": "\"string\""
        },
        {
         "metadata": "{}",
         "name": "size",
         "type": "\"long\""
        },
        {
         "metadata": "{}",
         "name": "modificationTime",
         "type": "\"long\""
        }
       ],
       "type": "table"
      }
     },
     "output_type": "display_data"
    }
   ],
   "source": [
    "%fs ls /mnt/pqsashrd/data/"
   ]
  },
  {
   "cell_type": "code",
   "execution_count": 0,
   "metadata": {
    "application/vnd.databricks.v1+cell": {
     "cellMetadata": {
      "byteLimit": 2048000,
      "rowLimit": 10000
     },
     "inputWidgets": {},
     "nuid": "7a1917d7-d7c2-41c1-a1d9-5597e8b037ba",
     "showTitle": false,
     "title": ""
    }
   },
   "outputs": [],
   "source": []
  }
 ],
 "metadata": {
  "application/vnd.databricks.v1+notebook": {
   "dashboards": [],
   "environmentMetadata": null,
   "language": "python",
   "notebookMetadata": {
    "mostRecentlyExecutedCommandWithImplicitDF": {
     "commandId": 2021948756644862,
     "dataframes": [
      "_sqldf"
     ]
    },
    "pythonIndentUnit": 4
   },
   "notebookName": "conf_notebook",
   "widgets": {}
  }
 },
 "nbformat": 4,
 "nbformat_minor": 0
}
