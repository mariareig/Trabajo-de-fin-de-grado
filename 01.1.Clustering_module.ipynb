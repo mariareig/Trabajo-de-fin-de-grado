{
 "cells": [
  {
   "cell_type": "code",
   "execution_count": 0,
   "metadata": {
    "application/vnd.databricks.v1+cell": {
     "cellMetadata": {
      "byteLimit": 2048000,
      "rowLimit": 10000
     },
     "inputWidgets": {},
     "nuid": "190c62b7-de87-4ef1-88e2-b3d3143e84eb",
     "showTitle": false,
     "title": ""
    }
   },
   "outputs": [],
   "source": [
    "%run ./conf_notebook"
   ]
  },
  {
   "cell_type": "markdown",
   "metadata": {
    "application/vnd.databricks.v1+cell": {
     "cellMetadata": {
      "byteLimit": 2048000,
      "rowLimit": 10000
     },
     "inputWidgets": {},
     "nuid": "ac8bbfea-bf46-435d-ab7b-328a5a9ee74e",
     "showTitle": false,
     "title": ""
    }
   },
   "source": [
    "Import the data"
   ]
  },
  {
   "cell_type": "code",
   "execution_count": 0,
   "metadata": {
    "application/vnd.databricks.v1+cell": {
     "cellMetadata": {
      "byteLimit": 2048000,
      "rowLimit": 10000
     },
     "inputWidgets": {},
     "nuid": "2890092f-d2e5-4e71-a740-12f69b1a592d",
     "showTitle": false,
     "title": ""
    }
   },
   "outputs": [
    {
     "output_type": "display_data",
     "data": {
      "text/html": [
       "<style scoped>\n",
       "  .table-result-container {\n",
       "    max-height: 300px;\n",
       "    overflow: auto;\n",
       "  }\n",
       "  table, th, td {\n",
       "    border: 1px solid black;\n",
       "    border-collapse: collapse;\n",
       "  }\n",
       "  th, td {\n",
       "    padding: 5px;\n",
       "  }\n",
       "  th {\n",
       "    text-align: left;\n",
       "  }\n",
       "</style><div class='table-result-container'><table class='table-result'><thead style='background-color: white'><tr><th>path</th><th>name</th><th>size</th><th>modificationTime</th></tr></thead><tbody><tr><td>dbfs:/mnt/pqsashrd/data/ann_pred_1.csv/</td><td>ann_pred_1.csv/</td><td>0</td><td>0</td></tr><tr><td>dbfs:/mnt/pqsashrd/data/ann_pred_1_test.csv/</td><td>ann_pred_1_test.csv/</td><td>0</td><td>0</td></tr><tr><td>dbfs:/mnt/pqsashrd/data/ann_pred_3.csv/</td><td>ann_pred_3.csv/</td><td>0</td><td>0</td></tr><tr><td>dbfs:/mnt/pqsashrd/data/clust_pred_1.csv/</td><td>clust_pred_1.csv/</td><td>0</td><td>0</td></tr><tr><td>dbfs:/mnt/pqsashrd/data/clust_pred_1_test.csv/</td><td>clust_pred_1_test.csv/</td><td>0</td><td>0</td></tr><tr><td>dbfs:/mnt/pqsashrd/data/clust_pred_3.csv/</td><td>clust_pred_3.csv/</td><td>0</td><td>0</td></tr><tr><td>dbfs:/mnt/pqsashrd/data/clust_pred_3_test.csv/</td><td>clust_pred_3_test.csv/</td><td>0</td><td>0</td></tr><tr><td>dbfs:/mnt/pqsashrd/data/test_1.csv</td><td>test_1.csv</td><td>38574669</td><td>1714569841000</td></tr><tr><td>dbfs:/mnt/pqsashrd/data/test_2.csv</td><td>test_2.csv</td><td>35056701</td><td>1714569835000</td></tr><tr><td>dbfs:/mnt/pqsashrd/data/test_3.csv</td><td>test_3.csv</td><td>25575183</td><td>1714569796000</td></tr><tr><td>dbfs:/mnt/pqsashrd/data/train_1.csv</td><td>train_1.csv</td><td>81417863</td><td>1714569888000</td></tr><tr><td>dbfs:/mnt/pqsashrd/data/train_1_partitioned/</td><td>train_1_partitioned/</td><td>0</td><td>0</td></tr><tr><td>dbfs:/mnt/pqsashrd/data/train_2.csv</td><td>train_2.csv</td><td>73764410</td><td>1714569886000</td></tr><tr><td>dbfs:/mnt/pqsashrd/data/train_3.csv</td><td>train_3.csv</td><td>54130409</td><td>1714569868000</td></tr><tr><td>dbfs:/mnt/pqsashrd/data/train_3_partitioned/</td><td>train_3_partitioned/</td><td>0</td><td>0</td></tr></tbody></table></div>"
      ]
     },
     "metadata": {
      "application/vnd.databricks.v1+output": {
       "addedWidgets": {},
       "aggData": [],
       "aggError": "",
       "aggOverflow": false,
       "aggSchema": [],
       "aggSeriesLimitReached": false,
       "aggType": "",
       "arguments": {},
       "columnCustomDisplayInfos": {},
       "data": [
        [
         "dbfs:/mnt/pqsashrd/data/ann_pred_1.csv/",
         "ann_pred_1.csv/",
         0,
         0
        ],
        [
         "dbfs:/mnt/pqsashrd/data/ann_pred_1_test.csv/",
         "ann_pred_1_test.csv/",
         0,
         0
        ],
        [
         "dbfs:/mnt/pqsashrd/data/ann_pred_3.csv/",
         "ann_pred_3.csv/",
         0,
         0
        ],
        [
         "dbfs:/mnt/pqsashrd/data/clust_pred_1.csv/",
         "clust_pred_1.csv/",
         0,
         0
        ],
        [
         "dbfs:/mnt/pqsashrd/data/clust_pred_1_test.csv/",
         "clust_pred_1_test.csv/",
         0,
         0
        ],
        [
         "dbfs:/mnt/pqsashrd/data/clust_pred_3.csv/",
         "clust_pred_3.csv/",
         0,
         0
        ],
        [
         "dbfs:/mnt/pqsashrd/data/clust_pred_3_test.csv/",
         "clust_pred_3_test.csv/",
         0,
         0
        ],
        [
         "dbfs:/mnt/pqsashrd/data/test_1.csv",
         "test_1.csv",
         38574669,
         1714569841000
        ],
        [
         "dbfs:/mnt/pqsashrd/data/test_2.csv",
         "test_2.csv",
         35056701,
         1714569835000
        ],
        [
         "dbfs:/mnt/pqsashrd/data/test_3.csv",
         "test_3.csv",
         25575183,
         1714569796000
        ],
        [
         "dbfs:/mnt/pqsashrd/data/train_1.csv",
         "train_1.csv",
         81417863,
         1714569888000
        ],
        [
         "dbfs:/mnt/pqsashrd/data/train_1_partitioned/",
         "train_1_partitioned/",
         0,
         0
        ],
        [
         "dbfs:/mnt/pqsashrd/data/train_2.csv",
         "train_2.csv",
         73764410,
         1714569886000
        ],
        [
         "dbfs:/mnt/pqsashrd/data/train_3.csv",
         "train_3.csv",
         54130409,
         1714569868000
        ],
        [
         "dbfs:/mnt/pqsashrd/data/train_3_partitioned/",
         "train_3_partitioned/",
         0,
         0
        ]
       ],
       "datasetInfos": [],
       "dbfsResultPath": null,
       "isJsonSchema": true,
       "metadata": {
        "isDbfsCommandResult": false
       },
       "overflow": false,
       "plotOptions": {
        "customPlotOptions": {},
        "displayType": "table",
        "pivotAggregation": null,
        "pivotColumns": null,
        "xColumns": null,
        "yColumns": null
       },
       "removedWidgets": [],
       "schema": [
        {
         "metadata": "{}",
         "name": "path",
         "type": "\"string\""
        },
        {
         "metadata": "{}",
         "name": "name",
         "type": "\"string\""
        },
        {
         "metadata": "{}",
         "name": "size",
         "type": "\"long\""
        },
        {
         "metadata": "{}",
         "name": "modificationTime",
         "type": "\"long\""
        }
       ],
       "type": "table"
      }
     },
     "output_type": "display_data"
    }
   ],
   "source": [
    "df_train = ps.read_csv(train_1_csv_file_path)\n",
    "df_train = df_train.drop('_c0', axis=1)\n",
    "\n",
    "df_test = ps.read_csv(test_1_csv_file_path)\n",
    "df_test = df_test.drop('_c0', axis=1)"
   ]
  },
  {
   "cell_type": "code",
   "execution_count": 0,
   "metadata": {
    "application/vnd.databricks.v1+cell": {
     "cellMetadata": {
      "byteLimit": 2048000,
      "rowLimit": 10000
     },
     "inputWidgets": {},
     "nuid": "039e6937-3015-4358-bedd-dcd063f7169f",
     "showTitle": false,
     "title": ""
    }
   },
   "outputs": [],
   "source": [
    "label_encoder = LabelEncoder()\n",
    "\n",
    "df_train = df_train.to_pandas()\n",
    "df_test = df_test.to_pandas()\n",
    "\n",
    "df_train[\"attack_cat_encoded\"] = label_encoder.fit_transform(df_train[\"attack_cat\"])\n",
    "df_test[\"attack_cat_encoded\"] = label_encoder.transform(df_test[\"attack_cat\"])\n",
    "\n",
    "df_train = ps.DataFrame(df_train)\n",
    "df_test = ps.DataFrame(df_test)"
   ]
  },
  {
   "cell_type": "code",
   "execution_count": 0,
   "metadata": {
    "application/vnd.databricks.v1+cell": {
     "cellMetadata": {
      "byteLimit": 2048000,
      "rowLimit": 10000
     },
     "inputWidgets": {},
     "nuid": "af015fc0-1c26-4ee5-bcd7-445ccb766cd1",
     "showTitle": false,
     "title": ""
    }
   },
   "outputs": [],
   "source": [
    "X_train = df_train.set_index(\"attack_cat\")\n",
    "X_train = X_train.drop(\"attack_cat_encoded\", axis=1)\n",
    "y_train = df_train[\"attack_cat_encoded\"]\n",
    "\n",
    "X_test = df_test.set_index(\"attack_cat\")\n",
    "X_test = X_test.drop(\"attack_cat_encoded\", axis=1)\n",
    "y_test = df_test[\"attack_cat_encoded\"]"
   ]
  },
  {
   "cell_type": "markdown",
   "metadata": {
    "application/vnd.databricks.v1+cell": {
     "cellMetadata": {
      "byteLimit": 2048000,
      "rowLimit": 10000
     },
     "inputWidgets": {},
     "nuid": "fb8b551f-5741-4314-9253-1997bb63cb09",
     "showTitle": false,
     "title": ""
    }
   },
   "source": [
    "Adjusted Rand Index (ARI): This metric measures the similarity between two clusterings by considering all pairs of samples and counting pairs that are assigned in the same or different clusters in the predicted and true clusterings. The ARI is adjusted for chance, which makes it more robust for comparing different clustering algorithms.\n",
    "\n",
    "Silhouette Coefficient: This metric measures how similar an object is to its own cluster (cohesion) compared to other clusters (separation). The Silhouette Coefficient is calculated for each sample and can range from -1 to +1, where a high value indicates that the object is well matched to its own cluster and poorly matched to neighboring clusters. If most objects have a high value, the clustering configuration is appropriate."
   ]
  },
  {
   "cell_type": "markdown",
   "metadata": {
    "application/vnd.databricks.v1+cell": {
     "cellMetadata": {
      "byteLimit": 2048000,
      "rowLimit": 10000
     },
     "inputWidgets": {},
     "nuid": "f3c1f693-8f76-474d-8074-c1585bca491c",
     "showTitle": false,
     "title": ""
    }
   },
   "source": [
    "### Fuzzy K-MEANS "
   ]
  },
  {
   "cell_type": "code",
   "execution_count": 0,
   "metadata": {
    "application/vnd.databricks.v1+cell": {
     "cellMetadata": {
      "byteLimit": 2048000,
      "rowLimit": 10000
     },
     "inputWidgets": {},
     "nuid": "5cfa7c56-695d-4a7d-89d5-972a09fb51fa",
     "showTitle": false,
     "title": ""
    }
   },
   "outputs": [],
   "source": [
    "estimator = LDA(n_components = 2)\n",
    "X_lda = estimator.fit_transform(ps.DataFrame(X_train).to_pandas(), y_train.to_pandas())\n",
    "X_lda_df = ps.DataFrame(data=X_lda, columns=['LDA_component_1', 'LDA_component_2'], index=ps.DataFrame(X_train).index)\n",
    "X_lda_df = X_lda_df.to_pandas()\n",
    "\n",
    "X_lda_test = estimator.transform(ps.DataFrame(X_test).to_pandas())\n",
    "X_lda_df_test_ = ps.DataFrame(data=X_lda_test, columns=['LDA_component_1', 'LDA_component_2'], index=ps.DataFrame(X_test).index)\n",
    "X_lda_df_test_ = X_lda_df_test_.to_pandas()"
   ]
  },
  {
   "cell_type": "code",
   "execution_count": 0,
   "metadata": {
    "application/vnd.databricks.v1+cell": {
     "cellMetadata": {
      "byteLimit": 2048000,
      "rowLimit": 10000
     },
     "inputWidgets": {},
     "nuid": "8da7f990-54db-46c4-9ab9-3c19160345e8",
     "showTitle": false,
     "title": ""
    }
   },
   "outputs": [],
   "source": [
    "custom_color_scale = [\n",
    "    '#800080',  # Purple (no change)\n",
    "    '#9370db',  # Medium Purple (no change)\n",
    "    '#6495ed',  # Cornflower Blue (no change)\n",
    "    '#000080',  # Navy (no change)\n",
    "    '#6998b3',  # Darker Light Blue (no change)\n",
    "    \"#e4cbd1\",  # Medium Violet Red (a darker, more subdued pink)\n",
    "]"
   ]
  },
  {
   "cell_type": "code",
   "execution_count": 0,
   "metadata": {
    "application/vnd.databricks.v1+cell": {
     "cellMetadata": {
      "byteLimit": 2048000,
      "rowLimit": 10000
     },
     "inputWidgets": {},
     "nuid": "1aea0f7e-06e8-48f4-adb4-91b085f41895",
     "showTitle": false,
     "title": ""
    }
   },
   "outputs": [],
   "source": [
    "estimator = LDA(n_components = 4)\n",
    "X_lda = estimator.fit_transform(X_train.to_pandas(), y_train.to_pandas())\n",
    "X_lda_df_ = ps.DataFrame(data=X_lda, columns=['LDA_component_1', 'LDA_component_2', 'LDA_component_3', 'LDA_component_4'], index=X_train.index)\n",
    "X_lda_df_ = X_lda_df_.to_pandas()\n",
    "\n",
    "X_lda_test = estimator.transform(X_test.to_pandas())\n",
    "X_lda_test_df = ps.DataFrame(data=X_lda_test, columns=['LDA_component_1', 'LDA_component_2', 'LDA_component_3', 'LDA_component_4'], index=X_test.index)\n",
    "X_lda_test_df = X_lda_test_df.to_pandas()  "
   ]
  },
  {
   "cell_type": "code",
   "execution_count": 0,
   "metadata": {
    "application/vnd.databricks.v1+cell": {
     "cellMetadata": {
      "byteLimit": 2048000,
      "rowLimit": 10000
     },
     "inputWidgets": {},
     "nuid": "d6c5f801-24f6-4a9f-a0c6-0e248774d899",
     "showTitle": false,
     "title": ""
    }
   },
   "outputs": [
    {
     "output_type": "stream",
     "name": "stdout",
     "output_type": "stream",
     "text": [
      "Number of clusters = 5: Silhouette Coefficient = 0.8679087920124233, Adjusted Rand Index (ARI) = 0.5703486331040698\n"
     ]
    }
   ],
   "source": [
    "k=5\n",
    "cntr, u, u0, d, jm, p, fpc = fuzz.cluster.cmeans(X_lda_df_.T, c=k, m=2, error=0.00001, maxiter=100000)\n",
    "predicted_labels = np.argmax(u, axis=0)\n",
    "\n",
    "true_labels = y_train.to_numpy()\n",
    "ari = metrics.adjusted_rand_score(true_labels, predicted_labels)\n",
    "\n",
    "spark_df = spark.createDataFrame([(Vectors.dense(x), int(l)) for x, l in zip(X_lda_df_.values, predicted_labels)], [\"features\", \"prediction\"])\n",
    "evaluator = ClusteringEvaluator(predictionCol='prediction', featuresCol='features', metricName='silhouette', distanceMeasure='squaredEuclidean')\n",
    "silhouette_score = evaluator.evaluate(spark_df)\n",
    "\n",
    "print(f\"Number of clusters = {k}: Silhouette Coefficient = {silhouette_score}, Adjusted Rand Index (ARI) = {ari}\")"
   ]
  },
  {
   "cell_type": "code",
   "execution_count": 0,
   "metadata": {
    "application/vnd.databricks.v1+cell": {
     "cellMetadata": {
      "byteLimit": 2048000,
      "rowLimit": 10000
     },
     "inputWidgets": {},
     "nuid": "10529554-d3ad-4ade-af4d-6ba10fe56826",
     "showTitle": false,
     "title": ""
    }
   },
   "outputs": [
    {
     "output_type": "stream",
     "name": "stdout",
     "output_type": "stream",
     "text": [
      "Number of clusters = 5: Silhouette Coefficient = 0.793922713536241, Adjusted Rand Index (ARI) = 0.292175992982344\n"
     ]
    }
   ],
   "source": [
    "u_test, u0_test, d_test, jm_test, p_test, fpc_test = cmeans_predict(X_lda_test_df.T, cntr, m=5, error=0.00001, maxiter=100000)\n",
    "predicted_labels_test = np.argmax(u_test, axis=0)\n",
    "\n",
    "true_labels = y_test.to_numpy()\n",
    "ari = metrics.adjusted_rand_score(true_labels, predicted_labels_test)\n",
    "\n",
    "spark_df = spark.createDataFrame([(Vectors.dense(x), int(l)) for x, l in zip(X_lda_test_df.values, predicted_labels_test)], [\"features\", \"prediction\"])\n",
    "evaluator = ClusteringEvaluator(predictionCol='prediction', featuresCol='features', metricName='silhouette', distanceMeasure='squaredEuclidean')\n",
    "silhouette_score = evaluator.evaluate(spark_df)\n",
    "\n",
    "print(f\"Number of clusters = {k}: Silhouette Coefficient = {silhouette_score}, Adjusted Rand Index (ARI) = {ari}\")"
   ]
  },
  {
   "cell_type": "code",
   "execution_count": 0,
   "metadata": {
    "application/vnd.databricks.v1+cell": {
     "cellMetadata": {
      "byteLimit": 2048000,
      "rowLimit": 10000
     },
     "inputWidgets": {},
     "nuid": "c2a0cd00-1ad7-4f9e-98f2-ccf9113278fe",
     "showTitle": false,
     "title": ""
    }
   },
   "outputs": [],
   "source": [
    "def map_predicted_labels(num):\n",
    "    if num == 0:\n",
    "        return 1\n",
    "    elif num == 1:\n",
    "        return 3\n",
    "    elif num == 2:\n",
    "        return 2\n",
    "    elif num == 3:\n",
    "        return 0\n",
    "    elif num == 4:\n",
    "        return 4\n",
    "    else:\n",
    "        return num\n",
    "\n",
    "predicted_labels_transformed = list(map(map_predicted_labels, predicted_labels))\n",
    "predicted_labels_transformed_test = list(map(map_predicted_labels, predicted_labels_test))"
   ]
  },
  {
   "cell_type": "code",
   "execution_count": 0,
   "metadata": {
    "application/vnd.databricks.v1+cell": {
     "cellMetadata": {
      "byteLimit": 2048000,
      "rowLimit": 10000
     },
     "inputWidgets": {},
     "nuid": "3a6c1265-67a2-469c-a60c-5616298dbe50",
     "showTitle": false,
     "title": ""
    }
   },
   "outputs": [],
   "source": [
    "X_lda_df_ = X_lda_df_.reset_index()\n",
    "X_lda_df_[\"clustering_pred\"] = predicted_labels_transformed\n",
    "soft_classification = pd.DataFrame(u.T, columns=['clustering_prob_0', 'clustering_prob_1', 'clustering_prob_2', 'clustering_prob_3', 'clustering_prob_4'])\n",
    "X_lda_df_ = pd.concat([X_lda_df_, soft_classification], axis=1)\n",
    "\n",
    "X_lda_test_df = X_lda_test_df.reset_index()\n",
    "X_lda_test_df[\"clustering_pred\"] = predicted_labels_transformed_test\n",
    "soft_classification_test = pd.DataFrame(u_test.T, columns=['clustering_prob_0', 'clustering_prob_1', 'clustering_prob_2', 'clustering_prob_3', 'clustering_prob_4'])\n",
    "X_lda_test_df = pd.concat([X_lda_test_df, soft_classification_test], axis=1)"
   ]
  },
  {
   "cell_type": "code",
   "execution_count": 0,
   "metadata": {
    "application/vnd.databricks.v1+cell": {
     "cellMetadata": {
      "byteLimit": 2048000,
      "rowLimit": 10000
     },
     "inputWidgets": {},
     "nuid": "2387b7c9-405d-4ffe-a521-586ab0bbea6a",
     "showTitle": false,
     "title": ""
    }
   },
   "outputs": [],
   "source": [
    "X_lda_df_ = ps.DataFrame(X_lda_df_).to_spark()\n",
    "save_path = clust_pred_1_csv_file_path\n",
    "X_lda_df_.coalesce(1).write.mode(\"overwrite\").option(\"header\", \"true\").csv(save_path)"
   ]
  },
  {
   "cell_type": "code",
   "execution_count": 0,
   "metadata": {
    "application/vnd.databricks.v1+cell": {
     "cellMetadata": {
      "byteLimit": 2048000,
      "rowLimit": 10000
     },
     "inputWidgets": {},
     "nuid": "26638e1b-e50c-4817-8ce5-3e655aacc5ae",
     "showTitle": false,
     "title": ""
    }
   },
   "outputs": [],
   "source": [
    "X_lda_test_df = ps.DataFrame(X_lda_test_df).to_spark()\n",
    "save_path = clust_pred_1_test_csv_file_path\n",
    "X_lda_test_df.coalesce(1).write.mode(\"overwrite\").option(\"header\", \"true\").csv(save_path)"
   ]
  },
  {
   "cell_type": "code",
   "execution_count": 0,
   "metadata": {
    "application/vnd.databricks.v1+cell": {
     "cellMetadata": {
      "byteLimit": 2048000,
      "rowLimit": 10000
     },
     "inputWidgets": {},
     "nuid": "92d6bba0-c7ce-48e9-af4b-fc51cd32744b",
     "showTitle": false,
     "title": ""
    }
   },
   "outputs": [],
   "source": []
  }
 ],
 "metadata": {
  "application/vnd.databricks.v1+notebook": {
   "dashboards": [],
   "environmentMetadata": null,
   "language": "python",
   "notebookMetadata": {
    "mostRecentlyExecutedCommandWithImplicitDF": {
     "commandId": 1673705193250427,
     "dataframes": [
      "_sqldf"
     ]
    },
    "pythonIndentUnit": 4
   },
   "notebookName": "01.1.Clustering_module",
   "widgets": {}
  }
 },
 "nbformat": 4,
 "nbformat_minor": 0
}
