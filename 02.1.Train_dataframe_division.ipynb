{
 "cells": [
  {
   "cell_type": "code",
   "execution_count": 0,
   "metadata": {
    "application/vnd.databricks.v1+cell": {
     "cellMetadata": {
      "byteLimit": 2048000,
      "rowLimit": 10000
     },
     "inputWidgets": {},
     "nuid": "190c62b7-de87-4ef1-88e2-b3d3143e84eb",
     "showTitle": false,
     "title": ""
    }
   },
   "outputs": [],
   "source": [
    "%run ./conf_notebook"
   ]
  },
  {
   "cell_type": "markdown",
   "metadata": {
    "application/vnd.databricks.v1+cell": {
     "cellMetadata": {
      "byteLimit": 2048000,
      "rowLimit": 10000
     },
     "inputWidgets": {},
     "nuid": "ac8bbfea-bf46-435d-ab7b-328a5a9ee74e",
     "showTitle": false,
     "title": ""
    }
   },
   "source": [
    "Import the data"
   ]
  },
  {
   "cell_type": "code",
   "execution_count": 0,
   "metadata": {
    "application/vnd.databricks.v1+cell": {
     "cellMetadata": {
      "byteLimit": 2048000,
      "rowLimit": 10000
     },
     "inputWidgets": {},
     "nuid": "2890092f-d2e5-4e71-a740-12f69b1a592d",
     "showTitle": false,
     "title": ""
    }
   },
   "outputs": [
    {
     "output_type": "display_data",
     "data": {
      "text/html": [
       "<style scoped>\n",
       "  .table-result-container {\n",
       "    max-height: 300px;\n",
       "    overflow: auto;\n",
       "  }\n",
       "  table, th, td {\n",
       "    border: 1px solid black;\n",
       "    border-collapse: collapse;\n",
       "  }\n",
       "  th, td {\n",
       "    padding: 5px;\n",
       "  }\n",
       "  th {\n",
       "    text-align: left;\n",
       "  }\n",
       "</style><div class='table-result-container'><table class='table-result'><thead style='background-color: white'><tr><th>path</th><th>name</th><th>size</th><th>modificationTime</th></tr></thead><tbody><tr><td>dbfs:/mnt/pqsashrd/data/ann_pred_1.csv/</td><td>ann_pred_1.csv/</td><td>0</td><td>0</td></tr><tr><td>dbfs:/mnt/pqsashrd/data/ann_pred_1_test.csv/</td><td>ann_pred_1_test.csv/</td><td>0</td><td>0</td></tr><tr><td>dbfs:/mnt/pqsashrd/data/ann_pred_3.csv/</td><td>ann_pred_3.csv/</td><td>0</td><td>0</td></tr><tr><td>dbfs:/mnt/pqsashrd/data/clust_pred_1.csv/</td><td>clust_pred_1.csv/</td><td>0</td><td>0</td></tr><tr><td>dbfs:/mnt/pqsashrd/data/clust_pred_1_test.csv/</td><td>clust_pred_1_test.csv/</td><td>0</td><td>0</td></tr><tr><td>dbfs:/mnt/pqsashrd/data/clust_pred_3.csv/</td><td>clust_pred_3.csv/</td><td>0</td><td>0</td></tr><tr><td>dbfs:/mnt/pqsashrd/data/clust_pred_3_test.csv/</td><td>clust_pred_3_test.csv/</td><td>0</td><td>0</td></tr><tr><td>dbfs:/mnt/pqsashrd/data/test_1.csv</td><td>test_1.csv</td><td>38574669</td><td>1714569841000</td></tr><tr><td>dbfs:/mnt/pqsashrd/data/test_2.csv</td><td>test_2.csv</td><td>35056701</td><td>1714569835000</td></tr><tr><td>dbfs:/mnt/pqsashrd/data/test_3.csv</td><td>test_3.csv</td><td>25575183</td><td>1714569796000</td></tr><tr><td>dbfs:/mnt/pqsashrd/data/train_1.csv</td><td>train_1.csv</td><td>81417863</td><td>1714569888000</td></tr><tr><td>dbfs:/mnt/pqsashrd/data/train_1_partitioned/</td><td>train_1_partitioned/</td><td>0</td><td>0</td></tr><tr><td>dbfs:/mnt/pqsashrd/data/train_2.csv</td><td>train_2.csv</td><td>73764410</td><td>1714569886000</td></tr><tr><td>dbfs:/mnt/pqsashrd/data/train_3.csv</td><td>train_3.csv</td><td>54130409</td><td>1714569868000</td></tr><tr><td>dbfs:/mnt/pqsashrd/data/train_3_partitioned/</td><td>train_3_partitioned/</td><td>0</td><td>0</td></tr></tbody></table></div>"
      ]
     },
     "metadata": {
      "application/vnd.databricks.v1+output": {
       "addedWidgets": {},
       "aggData": [],
       "aggError": "",
       "aggOverflow": false,
       "aggSchema": [],
       "aggSeriesLimitReached": false,
       "aggType": "",
       "arguments": {},
       "columnCustomDisplayInfos": {},
       "data": [
        [
         "dbfs:/mnt/pqsashrd/data/ann_pred_1.csv/",
         "ann_pred_1.csv/",
         0,
         0
        ],
        [
         "dbfs:/mnt/pqsashrd/data/ann_pred_1_test.csv/",
         "ann_pred_1_test.csv/",
         0,
         0
        ],
        [
         "dbfs:/mnt/pqsashrd/data/ann_pred_3.csv/",
         "ann_pred_3.csv/",
         0,
         0
        ],
        [
         "dbfs:/mnt/pqsashrd/data/clust_pred_1.csv/",
         "clust_pred_1.csv/",
         0,
         0
        ],
        [
         "dbfs:/mnt/pqsashrd/data/clust_pred_1_test.csv/",
         "clust_pred_1_test.csv/",
         0,
         0
        ],
        [
         "dbfs:/mnt/pqsashrd/data/clust_pred_3.csv/",
         "clust_pred_3.csv/",
         0,
         0
        ],
        [
         "dbfs:/mnt/pqsashrd/data/clust_pred_3_test.csv/",
         "clust_pred_3_test.csv/",
         0,
         0
        ],
        [
         "dbfs:/mnt/pqsashrd/data/test_1.csv",
         "test_1.csv",
         38574669,
         1714569841000
        ],
        [
         "dbfs:/mnt/pqsashrd/data/test_2.csv",
         "test_2.csv",
         35056701,
         1714569835000
        ],
        [
         "dbfs:/mnt/pqsashrd/data/test_3.csv",
         "test_3.csv",
         25575183,
         1714569796000
        ],
        [
         "dbfs:/mnt/pqsashrd/data/train_1.csv",
         "train_1.csv",
         81417863,
         1714569888000
        ],
        [
         "dbfs:/mnt/pqsashrd/data/train_1_partitioned/",
         "train_1_partitioned/",
         0,
         0
        ],
        [
         "dbfs:/mnt/pqsashrd/data/train_2.csv",
         "train_2.csv",
         73764410,
         1714569886000
        ],
        [
         "dbfs:/mnt/pqsashrd/data/train_3.csv",
         "train_3.csv",
         54130409,
         1714569868000
        ],
        [
         "dbfs:/mnt/pqsashrd/data/train_3_partitioned/",
         "train_3_partitioned/",
         0,
         0
        ]
       ],
       "datasetInfos": [],
       "dbfsResultPath": null,
       "isJsonSchema": true,
       "metadata": {
        "isDbfsCommandResult": false
       },
       "overflow": false,
       "plotOptions": {
        "customPlotOptions": {},
        "displayType": "table",
        "pivotAggregation": null,
        "pivotColumns": null,
        "xColumns": null,
        "yColumns": null
       },
       "removedWidgets": [],
       "schema": [
        {
         "metadata": "{}",
         "name": "path",
         "type": "\"string\""
        },
        {
         "metadata": "{}",
         "name": "name",
         "type": "\"string\""
        },
        {
         "metadata": "{}",
         "name": "size",
         "type": "\"long\""
        },
        {
         "metadata": "{}",
         "name": "modificationTime",
         "type": "\"long\""
        }
       ],
       "type": "table"
      }
     },
     "output_type": "display_data"
    }
   ],
   "source": [
    "df_train = ps.read_csv(train_1_csv_file_path)\n",
    "df_train = df_train.drop('_c0', axis=1)"
   ]
  },
  {
   "cell_type": "code",
   "execution_count": 0,
   "metadata": {
    "application/vnd.databricks.v1+cell": {
     "cellMetadata": {
      "byteLimit": 2048000,
      "rowLimit": 10000
     },
     "inputWidgets": {},
     "nuid": "b3b19343-b1ae-4c59-b46d-4129c9fd9716",
     "showTitle": false,
     "title": ""
    }
   },
   "outputs": [],
   "source": [
    "df_clust_pred = ps.read_csv(clust_pred_1_csv_file_path)"
   ]
  },
  {
   "cell_type": "code",
   "execution_count": 0,
   "metadata": {
    "application/vnd.databricks.v1+cell": {
     "cellMetadata": {
      "byteLimit": 2048000,
      "rowLimit": 10000
     },
     "inputWidgets": {},
     "nuid": "ea6c9052-1fbd-4b8c-b13f-95ca6981ef10",
     "showTitle": false,
     "title": ""
    }
   },
   "outputs": [],
   "source": [
    "df_train = df_train.to_pandas()\n",
    "df_clust_pred = df_clust_pred.to_pandas()"
   ]
  },
  {
   "cell_type": "code",
   "execution_count": 0,
   "metadata": {
    "application/vnd.databricks.v1+cell": {
     "cellMetadata": {
      "byteLimit": 2048000,
      "rowLimit": 10000
     },
     "inputWidgets": {},
     "nuid": "2c80601c-9e70-4d94-b79e-35f3d70b9313",
     "showTitle": false,
     "title": ""
    }
   },
   "outputs": [],
   "source": [
    "df_train[\"clustering_pred\"] = df_clust_pred[\"clustering_pred\"]"
   ]
  },
  {
   "cell_type": "code",
   "execution_count": 0,
   "metadata": {
    "application/vnd.databricks.v1+cell": {
     "cellMetadata": {
      "byteLimit": 2048000,
      "rowLimit": 10000
     },
     "inputWidgets": {},
     "nuid": "510b457d-1de2-465b-b1bc-0affb77eab5f",
     "showTitle": false,
     "title": ""
    }
   },
   "outputs": [
    {
     "output_type": "execute_result",
     "data": {
      "text/html": [
       "<div>\n",
       "<style scoped>\n",
       "    .dataframe tbody tr th:only-of-type {\n",
       "        vertical-align: middle;\n",
       "    }\n",
       "\n",
       "    .dataframe tbody tr th {\n",
       "        vertical-align: top;\n",
       "    }\n",
       "\n",
       "    .dataframe thead th {\n",
       "        text-align: right;\n",
       "    }\n",
       "</style>\n",
       "<table border=\"1\" class=\"dataframe\">\n",
       "  <thead>\n",
       "    <tr style=\"text-align: right;\">\n",
       "      <th></th>\n",
       "      <th>proto_encoded</th>\n",
       "      <th>state_encoded</th>\n",
       "      <th>dur</th>\n",
       "      <th>sbytes</th>\n",
       "      <th>dbytes</th>\n",
       "      <th>sttl</th>\n",
       "      <th>dttl</th>\n",
       "      <th>sloss</th>\n",
       "      <th>dloss</th>\n",
       "      <th>service_encoded</th>\n",
       "      <th>sload</th>\n",
       "      <th>dload</th>\n",
       "      <th>spkts</th>\n",
       "      <th>dpkts</th>\n",
       "      <th>swin</th>\n",
       "      <th>dwin</th>\n",
       "      <th>stcpb</th>\n",
       "      <th>dtcpb</th>\n",
       "      <th>smean</th>\n",
       "      <th>dmean</th>\n",
       "      <th>trans_depth</th>\n",
       "      <th>response_body_len</th>\n",
       "      <th>sjit</th>\n",
       "      <th>djit</th>\n",
       "      <th>rate</th>\n",
       "      <th>sinpkt</th>\n",
       "      <th>dinpkt</th>\n",
       "      <th>tcprtt</th>\n",
       "      <th>synack</th>\n",
       "      <th>ackdat</th>\n",
       "      <th>is_sm_ips_ports</th>\n",
       "      <th>ct_state_ttl</th>\n",
       "      <th>ct_flw_http_mthd</th>\n",
       "      <th>is_ftp_login</th>\n",
       "      <th>ct_ftp_cmd</th>\n",
       "      <th>ct_srv_src</th>\n",
       "      <th>ct_srv_dst</th>\n",
       "      <th>ct_dst_ltm</th>\n",
       "      <th>ct_src_ltm</th>\n",
       "      <th>ct_src_dport_ltm</th>\n",
       "      <th>ct_dst_sport_ltm</th>\n",
       "      <th>ct_dst_src_ltm</th>\n",
       "      <th>attack_cat</th>\n",
       "      <th>clustering_pred</th>\n",
       "    </tr>\n",
       "  </thead>\n",
       "  <tbody>\n",
       "    <tr>\n",
       "      <th>0</th>\n",
       "      <td>-1.0</td>\n",
       "      <td>0.0</td>\n",
       "      <td>0.179469</td>\n",
       "      <td>-0.131902</td>\n",
       "      <td>0.007260</td>\n",
       "      <td>-0.010417</td>\n",
       "      <td>0.892857</td>\n",
       "      <td>0.000000</td>\n",
       "      <td>0.0</td>\n",
       "      <td>0.000000</td>\n",
       "      <td>-0.009738</td>\n",
       "      <td>0.253129</td>\n",
       "      <td>0.4</td>\n",
       "      <td>0.2</td>\n",
       "      <td>1.0</td>\n",
       "      <td>1.0</td>\n",
       "      <td>0.324406</td>\n",
       "      <td>1.150945</td>\n",
       "      <td>-0.697674</td>\n",
       "      <td>-0.011236</td>\n",
       "      <td>0.0</td>\n",
       "      <td>0.0</td>\n",
       "      <td>0.012007</td>\n",
       "      <td>0.102883</td>\n",
       "      <td>-0.025220</td>\n",
       "      <td>0.435473</td>\n",
       "      <td>0.163928</td>\n",
       "      <td>0.000000</td>\n",
       "      <td>0.000000</td>\n",
       "      <td>0.000000</td>\n",
       "      <td>0.0</td>\n",
       "      <td>-1.0</td>\n",
       "      <td>0.0</td>\n",
       "      <td>0.0</td>\n",
       "      <td>0.0</td>\n",
       "      <td>-0.4</td>\n",
       "      <td>-0.3</td>\n",
       "      <td>-0.166667</td>\n",
       "      <td>-0.285714</td>\n",
       "      <td>0.00</td>\n",
       "      <td>0.0</td>\n",
       "      <td>-0.181818</td>\n",
       "      <td>Normal</td>\n",
       "      <td>1</td>\n",
       "    </tr>\n",
       "    <tr>\n",
       "      <th>1</th>\n",
       "      <td>-1.0</td>\n",
       "      <td>0.0</td>\n",
       "      <td>0.970450</td>\n",
       "      <td>0.233129</td>\n",
       "      <td>37.976407</td>\n",
       "      <td>-1.000000</td>\n",
       "      <td>0.884921</td>\n",
       "      <td>0.666667</td>\n",
       "      <td>8.5</td>\n",
       "      <td>0.000000</td>\n",
       "      <td>-0.009803</td>\n",
       "      <td>18.032918</td>\n",
       "      <td>1.2</td>\n",
       "      <td>3.6</td>\n",
       "      <td>1.0</td>\n",
       "      <td>1.0</td>\n",
       "      <td>0.739772</td>\n",
       "      <td>1.608104</td>\n",
       "      <td>-0.488372</td>\n",
       "      <td>11.932584</td>\n",
       "      <td>0.0</td>\n",
       "      <td>0.0</td>\n",
       "      <td>0.024441</td>\n",
       "      <td>12.068622</td>\n",
       "      <td>-0.025185</td>\n",
       "      <td>0.900023</td>\n",
       "      <td>0.302174</td>\n",
       "      <td>0.000000</td>\n",
       "      <td>0.000000</td>\n",
       "      <td>0.000000</td>\n",
       "      <td>0.0</td>\n",
       "      <td>0.0</td>\n",
       "      <td>0.0</td>\n",
       "      <td>0.0</td>\n",
       "      <td>0.0</td>\n",
       "      <td>3.8</td>\n",
       "      <td>0.2</td>\n",
       "      <td>-0.166667</td>\n",
       "      <td>-0.285714</td>\n",
       "      <td>0.00</td>\n",
       "      <td>0.0</td>\n",
       "      <td>-0.090909</td>\n",
       "      <td>Normal</td>\n",
       "      <td>3</td>\n",
       "    </tr>\n",
       "    <tr>\n",
       "      <th>2</th>\n",
       "      <td>-1.0</td>\n",
       "      <td>0.0</td>\n",
       "      <td>2.427244</td>\n",
       "      <td>-0.050613</td>\n",
       "      <td>11.816697</td>\n",
       "      <td>-1.000000</td>\n",
       "      <td>0.884921</td>\n",
       "      <td>0.333333</td>\n",
       "      <td>3.0</td>\n",
       "      <td>0.000000</td>\n",
       "      <td>-0.009880</td>\n",
       "      <td>2.136200</td>\n",
       "      <td>0.6</td>\n",
       "      <td>1.4</td>\n",
       "      <td>1.0</td>\n",
       "      <td>1.0</td>\n",
       "      <td>1.104087</td>\n",
       "      <td>1.548390</td>\n",
       "      <td>-0.627907</td>\n",
       "      <td>8.764045</td>\n",
       "      <td>0.0</td>\n",
       "      <td>0.0</td>\n",
       "      <td>6.835484</td>\n",
       "      <td>99.320499</td>\n",
       "      <td>-0.025700</td>\n",
       "      <td>4.199465</td>\n",
       "      <td>2.012246</td>\n",
       "      <td>1.708847</td>\n",
       "      <td>2.641310</td>\n",
       "      <td>1.296432</td>\n",
       "      <td>0.0</td>\n",
       "      <td>0.0</td>\n",
       "      <td>0.0</td>\n",
       "      <td>0.0</td>\n",
       "      <td>0.0</td>\n",
       "      <td>0.2</td>\n",
       "      <td>0.2</td>\n",
       "      <td>0.000000</td>\n",
       "      <td>-0.142857</td>\n",
       "      <td>0.00</td>\n",
       "      <td>0.0</td>\n",
       "      <td>0.000000</td>\n",
       "      <td>Normal</td>\n",
       "      <td>3</td>\n",
       "    </tr>\n",
       "    <tr>\n",
       "      <th>3</th>\n",
       "      <td>-1.0</td>\n",
       "      <td>0.0</td>\n",
       "      <td>2.514830</td>\n",
       "      <td>0.151840</td>\n",
       "      <td>0.549909</td>\n",
       "      <td>-1.000000</td>\n",
       "      <td>0.884921</td>\n",
       "      <td>0.333333</td>\n",
       "      <td>1.5</td>\n",
       "      <td>0.141403</td>\n",
       "      <td>-0.009867</td>\n",
       "      <td>0.068652</td>\n",
       "      <td>1.0</td>\n",
       "      <td>1.0</td>\n",
       "      <td>1.0</td>\n",
       "      <td>1.0</td>\n",
       "      <td>0.577632</td>\n",
       "      <td>0.547346</td>\n",
       "      <td>-0.488372</td>\n",
       "      <td>0.224719</td>\n",
       "      <td>0.0</td>\n",
       "      <td>0.0</td>\n",
       "      <td>0.103084</td>\n",
       "      <td>43.410362</td>\n",
       "      <td>-0.025704</td>\n",
       "      <td>2.766997</td>\n",
       "      <td>1.767374</td>\n",
       "      <td>0.000000</td>\n",
       "      <td>0.000000</td>\n",
       "      <td>0.000000</td>\n",
       "      <td>0.0</td>\n",
       "      <td>0.0</td>\n",
       "      <td>0.0</td>\n",
       "      <td>1.0</td>\n",
       "      <td>1.0</td>\n",
       "      <td>-0.4</td>\n",
       "      <td>-0.3</td>\n",
       "      <td>0.000000</td>\n",
       "      <td>-0.142857</td>\n",
       "      <td>0.00</td>\n",
       "      <td>0.0</td>\n",
       "      <td>0.000000</td>\n",
       "      <td>Normal</td>\n",
       "      <td>3</td>\n",
       "    </tr>\n",
       "    <tr>\n",
       "      <th>4</th>\n",
       "      <td>-1.0</td>\n",
       "      <td>0.0</td>\n",
       "      <td>0.670406</td>\n",
       "      <td>0.079755</td>\n",
       "      <td>0.094374</td>\n",
       "      <td>0.000000</td>\n",
       "      <td>0.884921</td>\n",
       "      <td>0.666667</td>\n",
       "      <td>0.5</td>\n",
       "      <td>0.000000</td>\n",
       "      <td>-0.009801</td>\n",
       "      <td>0.091221</td>\n",
       "      <td>0.8</td>\n",
       "      <td>0.4</td>\n",
       "      <td>1.0</td>\n",
       "      <td>1.0</td>\n",
       "      <td>1.271038</td>\n",
       "      <td>1.033172</td>\n",
       "      <td>-0.465116</td>\n",
       "      <td>0.011236</td>\n",
       "      <td>0.0</td>\n",
       "      <td>0.0</td>\n",
       "      <td>0.961223</td>\n",
       "      <td>1.007099</td>\n",
       "      <td>-0.025546</td>\n",
       "      <td>0.860772</td>\n",
       "      <td>1.481864</td>\n",
       "      <td>1.960584</td>\n",
       "      <td>3.057719</td>\n",
       "      <td>1.471084</td>\n",
       "      <td>0.0</td>\n",
       "      <td>0.0</td>\n",
       "      <td>0.0</td>\n",
       "      <td>0.0</td>\n",
       "      <td>0.0</td>\n",
       "      <td>3.8</td>\n",
       "      <td>3.5</td>\n",
       "      <td>0.000000</td>\n",
       "      <td>-0.142857</td>\n",
       "      <td>0.25</td>\n",
       "      <td>0.0</td>\n",
       "      <td>3.363636</td>\n",
       "      <td>Normal</td>\n",
       "      <td>1</td>\n",
       "    </tr>\n",
       "  </tbody>\n",
       "</table>\n",
       "</div>"
      ],
      "text/plain": [
       "   proto_encoded  state_encoded  ...  attack_cat  clustering_pred\n",
       "0           -1.0            0.0  ...      Normal                1\n",
       "1           -1.0            0.0  ...      Normal                3\n",
       "2           -1.0            0.0  ...      Normal                3\n",
       "3           -1.0            0.0  ...      Normal                3\n",
       "4           -1.0            0.0  ...      Normal                1\n",
       "\n",
       "[5 rows x 44 columns]"
      ]
     },
     "execution_count": 7,
     "metadata": {},
     "output_type": "execute_result"
    }
   ],
   "source": [
    "df_train.head()"
   ]
  },
  {
   "cell_type": "code",
   "execution_count": 0,
   "metadata": {
    "application/vnd.databricks.v1+cell": {
     "cellMetadata": {
      "byteLimit": 2048000,
      "rowLimit": 10000
     },
     "inputWidgets": {},
     "nuid": "2387b7c9-405d-4ffe-a521-586ab0bbea6a",
     "showTitle": false,
     "title": ""
    }
   },
   "outputs": [],
   "source": [
    "df_train = ps.DataFrame(df_train).to_spark()"
   ]
  },
  {
   "cell_type": "code",
   "execution_count": 0,
   "metadata": {
    "application/vnd.databricks.v1+cell": {
     "cellMetadata": {
      "byteLimit": 2048000,
      "rowLimit": 10000
     },
     "inputWidgets": {},
     "nuid": "26638e1b-e50c-4817-8ce5-3e655aacc5ae",
     "showTitle": false,
     "title": ""
    }
   },
   "outputs": [],
   "source": [
    "save_path = train_1_partitioned_parquet_file_path\n",
    "df_train.write.mode(\"overwrite\").partitionBy(\"clustering_pred\").parquet(save_path)"
   ]
  },
  {
   "cell_type": "code",
   "execution_count": 0,
   "metadata": {
    "application/vnd.databricks.v1+cell": {
     "cellMetadata": {
      "byteLimit": 2048000,
      "rowLimit": 10000
     },
     "inputWidgets": {},
     "nuid": "92d6bba0-c7ce-48e9-af4b-fc51cd32744b",
     "showTitle": false,
     "title": ""
    }
   },
   "outputs": [],
   "source": []
  }
 ],
 "metadata": {
  "application/vnd.databricks.v1+notebook": {
   "dashboards": [],
   "environmentMetadata": null,
   "language": "python",
   "notebookMetadata": {
    "mostRecentlyExecutedCommandWithImplicitDF": {
     "commandId": 3809821176928041,
     "dataframes": [
      "_sqldf"
     ]
    },
    "pythonIndentUnit": 4
   },
   "notebookName": "02.1.Train_dataframe_division",
   "widgets": {}
  }
 },
 "nbformat": 4,
 "nbformat_minor": 0
}
